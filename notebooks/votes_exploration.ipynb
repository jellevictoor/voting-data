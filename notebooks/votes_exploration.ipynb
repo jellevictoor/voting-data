{
 "cells": [
  {
   "cell_type": "code",
   "execution_count": null,
   "id": "4c4da0e2-2546-43f7-874d-008662573ecc",
   "metadata": {},
   "outputs": [],
   "source": [
    "%load_ext autoreload\n",
    "%autoreload 2"
   ]
  },
  {
   "cell_type": "code",
   "execution_count": null,
   "id": "5f55e272-263e-4616-b2a6-c739ca08d53f",
   "metadata": {},
   "outputs": [],
   "source": [
    "import pandas as pd\n",
    "import matplotlib.pyplot as plt"
   ]
  },
  {
   "cell_type": "code",
   "execution_count": null,
   "id": "53a3150d-65fd-41e6-a00f-42b220c01f01",
   "metadata": {},
   "outputs": [],
   "source": [
    "def get_votes():\n",
    "    df = pd.read_json('../data/output/plenary/json/votes.json', dtype=False)\n",
    "    politician = pd.json_normalize(df['politician'])\n",
    "    df['vote_type'] = df['vote_type'].astype('category')\n",
    "    df['politician_id'] = politician['id']\n",
    "    df['politician_name'] = politician['full_name']\n",
    "    df['politician_fraction'] = politician['fraction'].astype('category')\n",
    "    df.drop(columns=['politician'], inplace=True)\n",
    "    return df\n",
    "\n",
    "votes_df = get_votes()\n",
    "votes_df.info()"
   ]
  },
  {
   "cell_type": "code",
   "execution_count": null,
   "id": "00ab225c-f759-4c0d-a7bc-459b1411e31d",
   "metadata": {},
   "outputs": [],
   "source": [
    "# Sample DataFrame\n",
    "df = votes_df\n",
    "\n",
    "# Group by foo and bar, then count occurrences\n",
    "count = df.groupby(['politician_name', 'vote_type']).size().unstack(fill_value=0)\n",
    "\n",
    "# Calculate sum of counts for each value of foo and sort\n",
    "voters_most_active_order = count.sum(axis=1).sort_values(ascending=False).index\n",
    "\n",
    "# Reorder the DataFrame based on the sorted foo values\n",
    "count_sorted = count.loc[voters_most_active_order]\n",
    "\n",
    "# Plot stacked bar chart\n",
    "ax = count_sorted.plot(kind='area', stacked=True)\n",
    "plt.xlabel('Voter')\n",
    "plt.ylabel('Number of votes')\n",
    "plt.legend(title='Vote', bbox_to_anchor=(1.05, 1), loc='upper left')\n",
    "plt.title('Number of votes per person and per vote type')\n",
    "ax.set_xlabel('')\n",
    "ax.set_xticklabels([])\n",
    "plt.show()"
   ]
  },
  {
   "cell_type": "code",
   "execution_count": null,
   "id": "6460c3cb-b972-4679-9e5a-7b01501d3eca",
   "metadata": {},
   "outputs": [],
   "source": [
    "counts = count_sorted\n",
    "counts['total'] = counts['YES'] + counts['ABSTENTION'] + counts['NO']\n",
    "counts['yes_percentage'] = counts['YES'] / counts['total'] * 100\n",
    "counts['no_percentage'] = counts['NO'] / counts['total'] * 100\n",
    "counts['abstention_percentage'] = counts['ABSTENTION'] / counts['total'] * 100"
   ]
  },
  {
   "cell_type": "markdown",
   "id": "06c0f165-30a6-45e2-9ae1-e0962f381916",
   "metadata": {},
   "source": [
    "### Most and least likely to vote 'yes'"
   ]
  },
  {
   "cell_type": "code",
   "execution_count": null,
   "id": "eede8182-24b8-4cec-be6f-28046a9fac9c",
   "metadata": {},
   "outputs": [],
   "source": [
    "display(counts.sort_values('yes_percentage').tail())\n",
    "display(counts.sort_values('yes_percentage').head())"
   ]
  },
  {
   "cell_type": "markdown",
   "id": "f38d6162-96a6-4dad-8cc5-65d6530448f7",
   "metadata": {},
   "source": [
    "### Most and least likely to vote 'no'"
   ]
  },
  {
   "cell_type": "code",
   "execution_count": null,
   "id": "25a4076a-20ca-4feb-a383-01615a4d6809",
   "metadata": {},
   "outputs": [],
   "source": [
    "display(counts.sort_values('no_percentage').tail())\n",
    "display(counts.sort_values('no_percentage').head())"
   ]
  },
  {
   "cell_type": "code",
   "execution_count": null,
   "id": "2cbe669a-322a-44dd-b6d6-f23ab77e15e6",
   "metadata": {},
   "outputs": [],
   "source": [
    "### Most and least likely to abstain\n",
    "display(counts.sort_values('abstention_percentage').tail())\n",
    "display(counts.sort_values('abstention_percentage').head())"
   ]
  },
  {
   "cell_type": "code",
   "execution_count": null,
   "id": "44c507b5-3291-4751-b5fe-93d672dd2bab",
   "metadata": {},
   "outputs": [],
   "source": []
  },
  {
   "cell_type": "markdown",
   "id": "d2a4d52c-f088-486a-8331-a6e2be030da9",
   "metadata": {},
   "source": [
    "# TODO\n",
    "\n",
    "- count votes per fraction\n",
    "- find out which politicians' voting behaviour is most/least similar to their fraction\n",
    "- see if day of the week has impact on yes/no votes\n",
    "- see if month has an impact on yes/no votes\n",
    "- see if weather (wet/dry, hot/cold) has an impact on yes/no votes"
   ]
  },
  {
   "cell_type": "code",
   "execution_count": null,
   "id": "c60b2098-1122-42f2-b033-4ca92166b0a4",
   "metadata": {},
   "outputs": [],
   "source": []
  }
 ],
 "metadata": {
  "kernelspec": {
   "display_name": "Python 3 (ipykernel)",
   "language": "python",
   "name": "python3"
  },
  "language_info": {
   "codemirror_mode": {
    "name": "ipython",
    "version": 3
   },
   "file_extension": ".py",
   "mimetype": "text/x-python",
   "name": "python",
   "nbconvert_exporter": "python",
   "pygments_lexer": "ipython3",
   "version": "3.9.13"
  }
 },
 "nbformat": 4,
 "nbformat_minor": 5
}
